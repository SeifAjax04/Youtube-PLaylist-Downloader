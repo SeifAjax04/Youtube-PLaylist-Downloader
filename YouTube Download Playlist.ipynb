{
 "cells": [
  {
   "cell_type": "code",
   "execution_count": 1,
   "id": "41f021dd-9ba9-4976-a102-226a054d160d",
   "metadata": {},
   "outputs": [
    {
     "name": "stdout",
     "output_type": "stream",
     "text": [
      "Requirement already satisfied: python-youtube in /home/seif/.local/lib/python3.11/site-packages (0.9.3)\n",
      "Requirement already satisfied: dataclasses-json<0.7.0,>=0.6.0 in /home/seif/.local/lib/python3.11/site-packages (from python-youtube) (0.6.2)\n",
      "Requirement already satisfied: isodate<0.7.0,>=0.6.0 in /home/seif/.local/lib/python3.11/site-packages (from python-youtube) (0.6.1)\n",
      "Requirement already satisfied: requests<3.0.0,>=2.24.0 in /home/seif/anaconda3/lib/python3.11/site-packages (from python-youtube) (2.31.0)\n",
      "Collecting requests-oauthlib<2.0.0,>=1.3.0 (from python-youtube)\n",
      "  Downloading requests_oauthlib-1.3.1-py2.py3-none-any.whl (23 kB)\n",
      "Collecting marshmallow<4.0.0,>=3.18.0 (from dataclasses-json<0.7.0,>=0.6.0->python-youtube)\n",
      "  Obtaining dependency information for marshmallow<4.0.0,>=3.18.0 from https://files.pythonhosted.org/packages/ed/3c/cebfdcad015240014ff08b883d1c0c427f2ba45ae8c6572851b6ef136cad/marshmallow-3.20.1-py3-none-any.whl.metadata\n",
      "  Downloading marshmallow-3.20.1-py3-none-any.whl.metadata (7.8 kB)\n",
      "Requirement already satisfied: typing-inspect<1,>=0.4.0 in /home/seif/.local/lib/python3.11/site-packages (from dataclasses-json<0.7.0,>=0.6.0->python-youtube) (0.9.0)\n",
      "Requirement already satisfied: six in /home/seif/anaconda3/lib/python3.11/site-packages (from isodate<0.7.0,>=0.6.0->python-youtube) (1.16.0)\n",
      "Requirement already satisfied: charset-normalizer<4,>=2 in /home/seif/anaconda3/lib/python3.11/site-packages (from requests<3.0.0,>=2.24.0->python-youtube) (2.0.4)\n",
      "Requirement already satisfied: idna<4,>=2.5 in /home/seif/anaconda3/lib/python3.11/site-packages (from requests<3.0.0,>=2.24.0->python-youtube) (3.4)\n",
      "Requirement already satisfied: urllib3<3,>=1.21.1 in /home/seif/anaconda3/lib/python3.11/site-packages (from requests<3.0.0,>=2.24.0->python-youtube) (1.26.18)\n",
      "Requirement already satisfied: certifi>=2017.4.17 in /home/seif/anaconda3/lib/python3.11/site-packages (from requests<3.0.0,>=2.24.0->python-youtube) (2023.11.17)\n",
      "Collecting oauthlib>=3.0.0 (from requests-oauthlib<2.0.0,>=1.3.0->python-youtube)\n",
      "  Downloading oauthlib-3.2.2-py3-none-any.whl (151 kB)\n",
      "\u001b[2K     \u001b[38;2;114;156;31m━━━━━━━━━━━━━━━━━━━━━━━━━━━━━━━━━━━━━\u001b[0m \u001b[32m151.7/151.7 kB\u001b[0m \u001b[31m351.7 kB/s\u001b[0m eta \u001b[36m0:00:00\u001b[0m1m299.8 kB/s\u001b[0m eta \u001b[36m0:00:01\u001b[0m\n",
      "\u001b[?25hRequirement already satisfied: packaging>=17.0 in /home/seif/anaconda3/lib/python3.11/site-packages (from marshmallow<4.0.0,>=3.18.0->dataclasses-json<0.7.0,>=0.6.0->python-youtube) (23.1)\n",
      "Requirement already satisfied: mypy-extensions>=0.3.0 in /home/seif/.local/lib/python3.11/site-packages (from typing-inspect<1,>=0.4.0->dataclasses-json<0.7.0,>=0.6.0->python-youtube) (1.0.0)\n",
      "Requirement already satisfied: typing-extensions>=3.7.4 in /home/seif/anaconda3/lib/python3.11/site-packages (from typing-inspect<1,>=0.4.0->dataclasses-json<0.7.0,>=0.6.0->python-youtube) (4.7.1)\n",
      "Downloading marshmallow-3.20.1-py3-none-any.whl (49 kB)\n",
      "\u001b[2K   \u001b[38;2;114;156;31m━━━━━━━━━━━━━━━━━━━━━━━━━━━━━━━━━━━━━━━━\u001b[0m \u001b[32m49.4/49.4 kB\u001b[0m \u001b[31m8.7 MB/s\u001b[0m eta \u001b[36m0:00:00\u001b[0m\n",
      "\u001b[?25hInstalling collected packages: oauthlib, marshmallow, requests-oauthlib\n",
      "Successfully installed marshmallow-3.20.1 oauthlib-3.2.2 requests-oauthlib-1.3.1\n",
      "Note: you may need to restart the kernel to use updated packages.\n"
     ]
    }
   ],
   "source": [
    "pip install python-youtube"
   ]
  },
  {
   "cell_type": "code",
   "execution_count": 2,
   "id": "fe5779d1-81ff-4eaf-bced-2c0ad64ce287",
   "metadata": {},
   "outputs": [
    {
     "name": "stdout",
     "output_type": "stream",
     "text": [
      "Requirement already satisfied: pytube in /home/seif/.local/lib/python3.11/site-packages (15.0.0)\n",
      "Note: you may need to restart the kernel to use updated packages.\n"
     ]
    }
   ],
   "source": [
    "pip install pytube"
   ]
  },
  {
   "cell_type": "code",
   "execution_count": 3,
   "id": "36158f5a-fe15-447c-937c-5cb96bb1c2cf",
   "metadata": {},
   "outputs": [
    {
     "name": "stdout",
     "output_type": "stream",
     "text": [
      "Collecting tk\n",
      "  Downloading tk-0.1.0-py3-none-any.whl (3.9 kB)\n",
      "Installing collected packages: tk\n",
      "Successfully installed tk-0.1.0\n",
      "Note: you may need to restart the kernel to use updated packages.\n"
     ]
    }
   ],
   "source": [
    "pip install tk"
   ]
  },
  {
   "cell_type": "code",
   "execution_count": 10,
   "id": "8ff4e19f-9aac-4e19-9fff-a1a9cd0d0455",
   "metadata": {},
   "outputs": [],
   "source": [
    "from tkinter import *\n",
    "from tkinter import font  # Import the font module\n",
    "from pyyoutube import Api \n",
    "from pytube import YouTube \n",
    "from threading import Thread \n",
    "from tkinter import messagebox \n",
    "\n",
    "def get_list_videos(): \n",
    "    global playlist_item_by_id \n",
    "    # Clear ListBox \n",
    "    list_box.delete(0, 'end') \n",
    "\n",
    "    # Create API Object \n",
    "    api = Api(api_key='Enter Your API') \n",
    "\n",
    "    if \"youtube\" in playlistId.get(): \n",
    "        playlist_id = playlistId.get()[len(\"https://www.youtube.com/playlist?list=\"):] \n",
    "    else: \n",
    "        playlist_id = playlistId.get() \n",
    "\n",
    "    # Get list of video links \n",
    "    playlist_item_by_id = api.get_playlist_items(playlist_id=playlist_id, count=None, return_json=True) \n",
    "\n",
    "    # Iterate through all video links and insert into listbox \n",
    "    for index, videoid in enumerate(playlist_item_by_id['items']): \n",
    "        list_box.insert(END, f\" {str(index+1)}. {videoid['contentDetails']['videoId']}\") \n",
    "\n",
    "    download_start.config(state=NORMAL) \n",
    "\n",
    "def threading(): \n",
    "    # Call download_videos function \n",
    "    t1 = Thread(target=download_videos) \n",
    "    t1.start() \n",
    "\n",
    "def download_videos(): \n",
    "    download_start.config(state=\"disabled\") \n",
    "    get_videos.config(state=\"disabled\") \n",
    "\n",
    "    # Iterate through all selected videos \n",
    "    for i in list_box.curselection(): \n",
    "        videoid = playlist_item_by_id['items'][i]['contentDetails']['videoId'] \n",
    "\n",
    "        link = f\"https://www.youtube.com/watch?v={videoid}\"\n",
    "\n",
    "        yt_obj = YouTube(link) \n",
    "\n",
    "        filters = yt_obj.streams.filter(progressive=True, file_extension='mp4') \n",
    "\n",
    "        # download the highest quality video \n",
    "        filters.get_highest_resolution().download() \n",
    "\n",
    "    messagebox.showinfo(\"Success\", \"Video Successfully downloaded\") \n",
    "    download_start.config(state=\"normal\") \n",
    "    get_videos.config(state=\"normal\") \n",
    "\n",
    "# Create Object \n",
    "root = Tk() \n",
    "# Set geometry \n",
    "root.geometry('400x400') \n",
    "\n",
    "# Create a Poppins font object\n",
    "poppins_font = font.Font(family=\"Poppins\", size=8)\n",
    "\n",
    "# Add Label \n",
    "Label(root, text=\"Youtube Playlist Downloader\", font=\"Poppins 15 bold\").pack(pady=10) \n",
    "Label(root, text=\"Enter Playlist URL:-\", font=\"italic 10\").pack() \n",
    "\n",
    "# Add Entry box \n",
    "playlistId = Entry(root, width=60) \n",
    "playlistId.pack(pady=5) \n",
    "\n",
    "# Add Button \n",
    "get_videos = Button(root, text=\"Get Videos\", command=get_list_videos) \n",
    "get_videos.pack(pady=10) \n",
    "\n",
    "# Add Scrollbar \n",
    "scrollbar = Scrollbar(root) \n",
    "scrollbar.pack(side=RIGHT, fill=BOTH) \n",
    "list_box = Listbox(root, selectmode=\"multiple\") \n",
    "list_box.pack(expand=YES, fill=\"both\") \n",
    "list_box.config(yscrollcommand=scrollbar.set) \n",
    "scrollbar.config(command=list_box.yview) \n",
    "\n",
    "download_start = Button(root, text=\"Download Start\", command=threading, state=DISABLED) \n",
    "download_start.pack(pady=10) \n",
    "\n",
    "# Footer Label with Copyright Information\n",
    "footer_label = Label(root, text=\"Copyright © 2023 @SeifAjax04\", font=poppins_font, fg=\"red\")\n",
    "footer_label.pack(side=BOTTOM, pady=5)\n",
    "\n",
    "# Execute Tkinter \n",
    "root.mainloop()"
   ]
  },
  {
   "cell_type": "code",
   "execution_count": null,
   "id": "aaa6dc24-b146-47e6-b4dc-4294346b0c28",
   "metadata": {},
   "outputs": [],
   "source": []
  }
 ],
 "metadata": {
  "kernelspec": {
   "display_name": "Python 3 (ipykernel)",
   "language": "python",
   "name": "python3"
  },
  "language_info": {
   "codemirror_mode": {
    "name": "ipython",
    "version": 3
   },
   "file_extension": ".py",
   "mimetype": "text/x-python",
   "name": "python",
   "nbconvert_exporter": "python",
   "pygments_lexer": "ipython3",
   "version": "3.11.5"
  }
 },
 "nbformat": 4,
 "nbformat_minor": 5
}
